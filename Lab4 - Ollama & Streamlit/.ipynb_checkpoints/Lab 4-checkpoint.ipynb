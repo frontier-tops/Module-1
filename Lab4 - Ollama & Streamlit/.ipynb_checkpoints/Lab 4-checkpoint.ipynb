{
 "cells": [
  {
   "cell_type": "markdown",
   "id": "4d40e284-7d73-4102-a9b3-f7aaccb6fabb",
   "metadata": {},
   "source": [
    "# ChatBot Using Ollama & Streamlit"
   ]
  },
  {
   "cell_type": "markdown",
   "id": "facada54-e873-4f32-9b8f-87e33185d693",
   "metadata": {},
   "source": [
    "## Lab Description\n",
    "\n",
    "This lab provides hands-on experience with LLaMA, integrated into a chatbot application. Participants will explore how natural language processing (NLP) enables conversational AI by interacting with the model through a user-friendly interface.\n",
    "\n",
    "## Lab Objectives\n",
    "By completing this lab, participants will be able to:\n",
    "\n",
    "- Interact with an AI-powered chatbot using a web-based interface.\n",
    "- Generate meaningful responses based on user prompts.\n",
    "- Evaluate the accuracy and coherence of LLaMA's responses."
   ]
  },
  {
   "cell_type": "markdown",
   "id": "6bb2c025-8bec-4981-88e1-9f6b0f86fda6",
   "metadata": {},
   "source": [
    "\n",
    "### **Code Breakdown**\n",
    "\n",
    "`%%writefile ./app.py` magic command writes the script to app.py, allowing execution from a terminal.\n",
    "\n",
    "1. **Imports Required Modules:**\n",
    "   - `ollama as client`: Connects to the Ollama API for generating chatbot responses.\n",
    "   - `streamlit as st`: Used for creating an interactive web UI.\n",
    "\n",
    "2. **Function `stream_data(stream)`:**\n",
    "   - This function processes the streamed response from the LLM.\n",
    "   - Iterates through the stream, extracting the `\"content\"` field from each message chunk.\n",
    "\n",
    "3. **Function `main()`:**\n",
    "   - **Creates a Streamlit app titled `\"Chat With LLaMA\"`.**\n",
    "   - **Session State Management:**\n",
    "     - Initializes `st.session_state[\"llm_model\"]` to `\"llama3.1:8b\"` if not already set.\n",
    "     - Maintains a list of chat messages (`st.session_state.messages`).\n",
    "   - **Displays Previous Messages:**\n",
    "     - Iterates through stored messages and renders them in the UI.\n",
    "   - **Handles User Input:**\n",
    "     - Captures user input from `st.chat_input()`.\n",
    "     - Appends the input message to `st.session_state.messages`.\n",
    "     - Displays the user’s message in the chat.\n",
    "   - **Sends Input to LLM and Displays Response:**\n",
    "     - Calls `client.chat()` to generate a response from the LLM.\n",
    "     - Streams the response in real-time using `st.write_stream()`.\n",
    "     - Appends the AI-generated response to `st.session_state.messages`.\n",
    "\n",
    "4. **Main Execution (`if __name__ == \"__main__\":`):**\n",
    "   - Runs the `main()` function when the script is executed.\n",
    "\n",
    "### **Key Features:**\n",
    "- **Persistent Chat State:** Maintains chat history across interactions using `st.session_state`.\n",
    "- **Streaming Responses:** Displays messages from LLaMA in real-time.\n",
    "- **Interactive UI:** Uses Streamlit’s built-in chat components.\n",
    "\n",
    "This script provides a minimal yet functional chatbot interface powered by a LLaMA-based model via Ollama.\n"
   ]
  },
  {
   "cell_type": "code",
   "execution_count": 1,
   "id": "d46d331d-ba3d-44e4-9951-8a810da90da9",
   "metadata": {},
   "outputs": [
    {
     "name": "stdout",
     "output_type": "stream",
     "text": [
      "Writing ./app.py\n"
     ]
    }
   ],
   "source": [
    "%%writefile ./app.py\n",
    "\n",
    "import ollama as client\n",
    "import streamlit as st\n",
    "\n",
    "def stream_data(stream):\n",
    "     for chunk in stream:\n",
    "        yield chunk['message']['content'] + \"\"\n",
    "\n",
    "def main():\n",
    "    st.title(\"Chat With LLaMA\")\n",
    "\n",
    "    if \"llm_model\" not in st.session_state:\n",
    "        st.session_state[\"llm_model\"] = \"llama3.1:8b\"\n",
    "\n",
    "    if \"messages\" not in st.session_state:\n",
    "        st.session_state.messages = []\n",
    "\n",
    "    for message in st.session_state.messages:\n",
    "        with st.chat_message(message[\"role\"]):\n",
    "            st.markdown(message[\"content\"])\n",
    "\n",
    "    if prompt := st.chat_input(\"What is up?\"):\n",
    "        st.session_state.messages.append({\"role\": \"user\", \"content\": prompt})\n",
    "        with st.chat_message(\"user\"):\n",
    "            st.markdown(prompt)\n",
    "\n",
    "        with st.chat_message(\"assistant\"):\n",
    "            stream = client.chat(\n",
    "                model=st.session_state[\"llm_model\"],\n",
    "                messages=[\n",
    "                    {\"role\": m[\"role\"], \"content\": m[\"content\"]}\n",
    "                    for m in st.session_state.messages\n",
    "                ],\n",
    "                stream=True,\n",
    "            )\n",
    "\n",
    "            response = st.write_stream(stream_data(stream))\n",
    "        st.session_state.messages.append({\"role\": \"assistant\", \"content\": response})\n",
    "\n",
    "if __name__ == \"__main__\":\n",
    "    main()"
   ]
  },
  {
   "cell_type": "markdown",
   "id": "eb9b88c1-f80f-435e-9f22-3fdcb634c3a6",
   "metadata": {},
   "source": [
    "## **Testing the Streamlit Interface**\n",
    "\n",
    "### **Instructions:**\n",
    "\n",
    "**Go to http://10.79.253.111:8501 to access the UI** \n",
    "\n",
    "Follow these steps to test the **Chat With LLaMA** interface and verify its ability to process user inputs effectively.\n",
    "\n",
    "---\n",
    "\n",
    "### **Step 1: Accessing the Chat Interface**\n",
    "- The initial screen of the application shows a text input field for chatting with the **LLaMA model**.\n",
    "- Users can type their queries and submit them to receive responses.\n",
    "\n",
    "\n",
    "<img src=\"1.png\" alt=\"Chat With LLaMA - Initial Interface\" width=\"800\">\n",
    "\n",
    "---\n",
    "\n",
    "### **Step 2: Generating a Response**\n",
    "- The user enters a prompt, such as **\"Write a blog about LLMs\"**.\n",
    "- The system processes the input and generates a structured blog response about **Large Language Models (LLMs)**.\n",
    "\n",
    "\n",
    "<img src=\"2.png\" alt=\"Chat With LLaMA - Response Generation\" width=\"800\">\n",
    "\n",
    "---\n"
   ]
  },
  {
   "cell_type": "code",
   "execution_count": null,
   "id": "99ac4dcf-9b4a-4642-afed-37fc04bbabe9",
   "metadata": {},
   "outputs": [],
   "source": []
  }
 ],
 "metadata": {
  "kernelspec": {
   "display_name": "Python 3 (ipykernel)",
   "language": "python",
   "name": "python3"
  },
  "language_info": {
   "codemirror_mode": {
    "name": "ipython",
    "version": 3
   },
   "file_extension": ".py",
   "mimetype": "text/x-python",
   "name": "python",
   "nbconvert_exporter": "python",
   "pygments_lexer": "ipython3",
   "version": "3.9.6"
  }
 },
 "nbformat": 4,
 "nbformat_minor": 5
}
